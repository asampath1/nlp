{
 "cells": [
  {
   "cell_type": "markdown",
   "metadata": {},
   "source": [
    "___\n",
    "\n",
    "<a href='http://www.pieriandata.com'> <img src='../Pierian_Data_Logo.png' /></a>\n",
    "___"
   ]
  },
  {
   "cell_type": "markdown",
   "metadata": {
    "collapsed": true
   },
   "source": [
    "# Python Text Basics Assessment\n",
    "\n",
    "Welcome to your assessment! Complete the tasks described in bold below by typing the relevant code in the cells.<br>\n",
    "You can compare your answers to the Solutions notebook provided in this folder."
   ]
  },
  {
   "cell_type": "markdown",
   "metadata": {},
   "source": [
    "## f-Strings\n",
    "#### 1. Print an f-string that displays `NLP stands for Natural Language Processing` using the variables provided."
   ]
  },
  {
   "cell_type": "code",
   "execution_count": 17,
   "metadata": {},
   "outputs": [
    {
     "name": "stdout",
     "output_type": "stream",
     "text": [
      "Natural Language Processing\n"
     ]
    }
   ],
   "source": [
    "abbr = 'NLP'\n",
    "full_text = 'Natural Language Processing'\n",
    "\n",
    "# Enter your code here:kjhkhk\n",
    "print(f'{full_text}')\n",
    "\n"
   ]
  },
  {
   "cell_type": "markdown",
   "metadata": {},
   "source": [
    "## Files\n",
    "#### 2. Create a file in the current working directory called `contacts.txt` by running the cell below:"
   ]
  },
  {
   "cell_type": "code",
   "execution_count": 18,
   "metadata": {},
   "outputs": [
    {
     "name": "stdout",
     "output_type": "stream",
     "text": [
      "Overwriting contacts.txt\n"
     ]
    }
   ],
   "source": [
    "%%writefile contacts.txt\n",
    "First_Name Last_Name, Title, Extension, Email"
   ]
  },
  {
   "cell_type": "markdown",
   "metadata": {},
   "source": [
    "#### 3. Open the file and use .read() to save the contents of the file to a string called `fields`.  Make sure the file is closed at the end."
   ]
  },
  {
   "cell_type": "code",
   "execution_count": 19,
   "metadata": {},
   "outputs": [
    {
     "ename": "NameError",
     "evalue": "name 'fields' is not defined",
     "output_type": "error",
     "traceback": [
      "\u001b[0;31m---------------------------------------------------------------------------\u001b[0m",
      "\u001b[0;31mNameError\u001b[0m                                 Traceback (most recent call last)",
      "\u001b[0;32m/var/folders/fn/x5zc_1t17csgp0lnbf4fgd7w0000gn/T/ipykernel_92287/2331777501.py\u001b[0m in \u001b[0;36m<module>\u001b[0;34m\u001b[0m\n\u001b[1;32m      5\u001b[0m \u001b[0;34m\u001b[0m\u001b[0m\n\u001b[1;32m      6\u001b[0m \u001b[0;31m# Run fields to see the contents of contacts.txt:\u001b[0m\u001b[0;34m\u001b[0m\u001b[0;34m\u001b[0m\u001b[0;34m\u001b[0m\u001b[0m\n\u001b[0;32m----> 7\u001b[0;31m \u001b[0mfields\u001b[0m\u001b[0;34m\u001b[0m\u001b[0;34m\u001b[0m\u001b[0m\n\u001b[0m",
      "\u001b[0;31mNameError\u001b[0m: name 'fields' is not defined"
     ]
    }
   ],
   "source": [
    "# Write your code here:\n",
    "\n",
    "\n",
    "\n",
    "    \n",
    "# Run fields to see the contents of contacts.txt:\n",
    "fields"
   ]
  },
  {
   "cell_type": "markdown",
   "metadata": {},
   "source": [
    "## Working with PDF Files\n",
    "#### 4. Use PyPDF2 to open the file `Business_Proposal.pdf`. Extract the text of page 2."
   ]
  },
  {
   "cell_type": "code",
   "execution_count": null,
   "metadata": {},
   "outputs": [],
   "source": [
    "# Perform import\n",
    "\n",
    "\n",
    "# Open the file as a binary object\n",
    "\n",
    "\n",
    "# Use PyPDF2 to read the text of the file\n",
    "\n",
    "\n",
    "\n",
    "# Get the text from page 2 (CHALLENGE: Do this in one step!)\n",
    "page_two_text = \n",
    "\n",
    "\n",
    "\n",
    "# Close the file\n",
    "\n",
    "\n",
    "# Print the contents of page_two_text\n",
    "print(page_two_text)"
   ]
  },
  {
   "cell_type": "markdown",
   "metadata": {},
   "source": [
    "#### 5. Open the file `contacts.txt` in append mode. Add the text of page 2 from above to `contacts.txt`.\n",
    "\n",
    "#### CHALLENGE: See if you can remove the word \"AUTHORS:\""
   ]
  },
  {
   "cell_type": "code",
   "execution_count": null,
   "metadata": {},
   "outputs": [],
   "source": [
    "# Simple Solution:\n",
    "\n",
    "\n",
    "\n"
   ]
  },
  {
   "cell_type": "code",
   "execution_count": null,
   "metadata": {},
   "outputs": [],
   "source": [
    "# CHALLENGE Solution (re-run the %%writefile cell above to obtain an unmodified contacts.txt file):\n",
    "\n",
    "\n",
    "\n"
   ]
  },
  {
   "cell_type": "markdown",
   "metadata": {},
   "source": [
    "## Regular Expressions\n",
    "#### 6. Using the `page_two_text` variable created above, extract any email addresses that were contained in the file `Business_Proposal.pdf`."
   ]
  },
  {
   "cell_type": "code",
   "execution_count": null,
   "metadata": {},
   "outputs": [],
   "source": [
    "import re\n",
    "\n",
    "# Enter your regex pattern here. This may take several tries!\n",
    "pattern = \n",
    "\n",
    "re.findall(pattern, page_two_text)"
   ]
  },
  {
   "cell_type": "markdown",
   "metadata": {},
   "source": [
    "### Great job!"
   ]
  }
 ],
 "metadata": {
  "kernelspec": {
   "display_name": "Python 3",
   "language": "python",
   "name": "python3"
  },
  "language_info": {
   "codemirror_mode": {
    "name": "ipython",
    "version": 3
   },
   "file_extension": ".py",
   "mimetype": "text/x-python",
   "name": "python",
   "nbconvert_exporter": "python",
   "pygments_lexer": "ipython3",
   "version": "3.7.9"
  }
 },
 "nbformat": 4,
 "nbformat_minor": 2
}
